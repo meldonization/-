{
 "cells": [
  {
   "cell_type": "markdown",
   "metadata": {
    "hidePrompt": false,
    "slideshow": {
     "slide_type": "subslide"
    }
   },
   "source": [
    "<img align=\"right\" src=\"./rebound/orbit_gif.gif\">\n",
    "\n",
    "\n",
    "# 茶话会 2\n",
    "---\n",
    "Meldonization"
   ]
  },
  {
   "cell_type": "markdown",
   "metadata": {
    "slideshow": {
     "slide_type": "slide"
    }
   },
   "source": [
    "<img align=\"right\" src=\"http://i.giphy.com/l0HFiOtai3t3xIoLK.gif\">\n",
    "### How to make    \n",
    "# &nbsp;\n",
    "# &nbsp;  \n",
    "# **&nbsp;&nbsp;&nbsp;&nbsp;&nbsp;&nbsp;&nbsp;&nbsp;&nbsp;&nbsp;&nbsp;&nbsp;&nbsp;&nbsp;&nbsp;&nbsp;&nbsp;&nbsp;&nbsp; fancy**     \n",
    "# &nbsp;   \n",
    "\n",
    "# &nbsp;\n",
    "### HTML presentations ™  "
   ]
  },
  {
   "cell_type": "markdown",
   "metadata": {
    "collapsed": true,
    "slideshow": {
     "slide_type": "subslide"
    }
   },
   "source": [
    "### 工具:"
   ]
  },
  {
   "cell_type": "markdown",
   "metadata": {
    "slideshow": {
     "slide_type": "fragment"
    }
   },
   "source": [
    "* __Reveal.js__ & plugins  https://github.com/hakimel/reveal.js"
   ]
  },
  {
   "cell_type": "markdown",
   "metadata": {
    "slideshow": {
     "slide_type": "fragment"
    }
   },
   "source": [
    "* __Jupyter__ & plugins http://jupyter.org/"
   ]
  },
  {
   "cell_type": "markdown",
   "metadata": {
    "slideshow": {
     "slide_type": "fragment"
    }
   },
   "source": [
    "* __Leap Motion__ https://www.leapmotion.com/"
   ]
  },
  {
   "cell_type": "markdown",
   "metadata": {
    "slideshow": {
     "slide_type": "fragment"
    }
   },
   "source": [
    "###### 后端：\n",
    "* Markdown + Python + w3cschool"
   ]
  },
  {
   "cell_type": "code",
   "execution_count": 60,
   "metadata": {
    "collapsed": false,
    "scrolled": true,
    "slideshow": {
     "slide_type": "slide"
    }
   },
   "outputs": [
    {
     "data": {
      "application/json": {
       "cell": {
        "!": "OSMagics",
        "HTML": "Other",
        "SVG": "Other",
        "bash": "Other",
        "capture": "ExecutionMagics",
        "debug": "ExecutionMagics",
        "file": "Other",
        "html": "DisplayMagics",
        "javascript": "DisplayMagics",
        "latex": "DisplayMagics",
        "perl": "Other",
        "prun": "ExecutionMagics",
        "pypy": "Other",
        "python": "Other",
        "python2": "Other",
        "python3": "Other",
        "ruby": "Other",
        "script": "ScriptMagics",
        "sh": "Other",
        "svg": "DisplayMagics",
        "sx": "OSMagics",
        "system": "OSMagics",
        "time": "ExecutionMagics",
        "timeit": "ExecutionMagics",
        "writefile": "OSMagics"
       },
       "line": {
        "alias": "OSMagics",
        "alias_magic": "BasicMagics",
        "autocall": "AutoMagics",
        "automagic": "AutoMagics",
        "autosave": "KernelMagics",
        "bookmark": "OSMagics",
        "cat": "Other",
        "cd": "OSMagics",
        "clear": "KernelMagics",
        "colors": "BasicMagics",
        "config": "ConfigMagics",
        "connect_info": "KernelMagics",
        "cp": "Other",
        "debug": "ExecutionMagics",
        "dhist": "OSMagics",
        "dirs": "OSMagics",
        "doctest_mode": "BasicMagics",
        "ed": "Other",
        "edit": "KernelMagics",
        "env": "OSMagics",
        "gui": "BasicMagics",
        "hist": "Other",
        "history": "HistoryMagics",
        "install_default_config": "DeprecatedMagics",
        "install_ext": "ExtensionMagics",
        "install_profiles": "DeprecatedMagics",
        "killbgscripts": "ScriptMagics",
        "ldir": "Other",
        "less": "KernelMagics",
        "lf": "Other",
        "lk": "Other",
        "ll": "Other",
        "load": "CodeMagics",
        "load_ext": "ExtensionMagics",
        "loadpy": "CodeMagics",
        "logoff": "LoggingMagics",
        "logon": "LoggingMagics",
        "logstart": "LoggingMagics",
        "logstate": "LoggingMagics",
        "logstop": "LoggingMagics",
        "ls": "Other",
        "lsmagic": "BasicMagics",
        "lx": "Other",
        "macro": "ExecutionMagics",
        "magic": "BasicMagics",
        "man": "KernelMagics",
        "matplotlib": "PylabMagics",
        "mkdir": "Other",
        "more": "KernelMagics",
        "mv": "Other",
        "notebook": "BasicMagics",
        "page": "BasicMagics",
        "pastebin": "CodeMagics",
        "pdb": "ExecutionMagics",
        "pdef": "NamespaceMagics",
        "pdoc": "NamespaceMagics",
        "pfile": "NamespaceMagics",
        "pinfo": "NamespaceMagics",
        "pinfo2": "NamespaceMagics",
        "popd": "OSMagics",
        "pprint": "BasicMagics",
        "precision": "BasicMagics",
        "profile": "BasicMagics",
        "prun": "ExecutionMagics",
        "psearch": "NamespaceMagics",
        "psource": "NamespaceMagics",
        "pushd": "OSMagics",
        "pwd": "OSMagics",
        "pycat": "OSMagics",
        "pylab": "PylabMagics",
        "qtconsole": "KernelMagics",
        "quickref": "BasicMagics",
        "recall": "HistoryMagics",
        "rehashx": "OSMagics",
        "reload_ext": "ExtensionMagics",
        "rep": "Other",
        "rerun": "HistoryMagics",
        "reset": "NamespaceMagics",
        "reset_selective": "NamespaceMagics",
        "rm": "Other",
        "rmdir": "Other",
        "run": "ExecutionMagics",
        "save": "CodeMagics",
        "sc": "OSMagics",
        "set_env": "OSMagics",
        "store": "StoreMagics",
        "sx": "OSMagics",
        "system": "OSMagics",
        "tb": "ExecutionMagics",
        "time": "ExecutionMagics",
        "timeit": "ExecutionMagics",
        "unalias": "OSMagics",
        "unload_ext": "ExtensionMagics",
        "who": "NamespaceMagics",
        "who_ls": "NamespaceMagics",
        "whos": "NamespaceMagics",
        "xdel": "NamespaceMagics",
        "xmode": "BasicMagics"
       }
      },
      "text/plain": [
       "Available line magics:\n",
       "%alias  %alias_magic  %autocall  %automagic  %autosave  %bookmark  %cat  %cd  %clear  %colors  %config  %connect_info  %cp  %debug  %dhist  %dirs  %doctest_mode  %ed  %edit  %env  %gui  %hist  %history  %install_default_config  %install_ext  %install_profiles  %killbgscripts  %ldir  %less  %lf  %lk  %ll  %load  %load_ext  %loadpy  %logoff  %logon  %logstart  %logstate  %logstop  %ls  %lsmagic  %lx  %macro  %magic  %man  %matplotlib  %mkdir  %more  %mv  %notebook  %page  %pastebin  %pdb  %pdef  %pdoc  %pfile  %pinfo  %pinfo2  %popd  %pprint  %precision  %profile  %prun  %psearch  %psource  %pushd  %pwd  %pycat  %pylab  %qtconsole  %quickref  %recall  %rehashx  %reload_ext  %rep  %rerun  %reset  %reset_selective  %rm  %rmdir  %run  %save  %sc  %set_env  %store  %sx  %system  %tb  %time  %timeit  %unalias  %unload_ext  %who  %who_ls  %whos  %xdel  %xmode\n",
       "\n",
       "Available cell magics:\n",
       "%%!  %%HTML  %%SVG  %%bash  %%capture  %%debug  %%file  %%html  %%javascript  %%latex  %%perl  %%prun  %%pypy  %%python  %%python2  %%python3  %%ruby  %%script  %%sh  %%svg  %%sx  %%system  %%time  %%timeit  %%writefile\n",
       "\n",
       "Automagic is ON, % prefix IS NOT needed for line magics."
      ]
     },
     "execution_count": 60,
     "metadata": {},
     "output_type": "execute_result"
    }
   ],
   "source": [
    "%lsmagic"
   ]
  },
  {
   "cell_type": "code",
   "execution_count": 11,
   "metadata": {
    "collapsed": false,
    "scrolled": true,
    "slideshow": {
     "slide_type": "subslide"
    }
   },
   "outputs": [
    {
     "name": "stdout",
     "output_type": "stream",
     "text": [
      "Gaia_GDR1_Sky_Map_annotated_4K.png \u001b[34mjupyter-presentation\u001b[m\u001b[m\r\n",
      "README.md                          leap.config\r\n",
      "Tea Nexus 2.ipynb                  leap.dep\r\n",
      "Tea Nexus 2.slides.html            livereveal.json\r\n",
      "\u001b[31mconfigure\u001b[m\u001b[m                          \u001b[34mreveal-leap-motion\u001b[m\u001b[m\r\n",
      "general.config                     \u001b[34mreveal.js\u001b[m\u001b[m\r\n"
     ]
    }
   ],
   "source": [
    "!ls"
   ]
  },
  {
   "cell_type": "code",
   "execution_count": 26,
   "metadata": {
    "collapsed": false,
    "slideshow": {
     "slide_type": "fragment"
    }
   },
   "outputs": [
    {
     "data": {
      "text/html": [
       "<img src=\"http://i.giphy.com/90F8aUepslB84.gif\" alt=\"Oh My God!\">"
      ],
      "text/plain": [
       "<IPython.core.display.HTML object>"
      ]
     },
     "metadata": {},
     "output_type": "display_data"
    }
   ],
   "source": [
    "%%HTML\n",
    "<img src=\"http://i.giphy.com/90F8aUepslB84.gif\" alt=\"Oh My God!\">"
   ]
  },
  {
   "cell_type": "code",
   "execution_count": 70,
   "metadata": {
    "collapsed": false,
    "slideshow": {
     "slide_type": "subslide"
    }
   },
   "outputs": [
    {
     "name": "stdout",
     "output_type": "stream",
     "text": [
      "Mac detected.\n"
     ]
    }
   ],
   "source": [
    "%%bash\n",
    "case `uname` in \n",
    "'Darwin' )\n",
    "echo \"Mac detected.\"\n",
    ";;\n",
    "'Linux' )\n",
    "echo \"Linux detected + love.\"\n",
    ";;\n",
    "* ) \n",
    "echo \"Hmmm?\"\n",
    ";;\n",
    "esac"
   ]
  },
  {
   "cell_type": "code",
   "execution_count": 69,
   "metadata": {
    "code_folding": [],
    "collapsed": false,
    "scrolled": true,
    "slideshow": {
     "slide_type": "subslide"
    }
   },
   "outputs": [
    {
     "data": {
      "text/latex": [
       "\\begin{equation}\n",
       "\\frac{\\Omega_eR_*}{V_0} = \\bigg( \\frac{9Gm_*t_0}{\\gamma_*Q_*^{\\prime}R_*^2V_0} \\bigg)^{1/3} \\bigg( \\frac{m_p}{m_*} \\bigg)^{2/3} \\bigg( \\frac{R_*}{a} \\bigg)^2\n",
       "\\end{equation}"
      ],
      "text/plain": [
       "<IPython.core.display.Latex object>"
      ]
     },
     "metadata": {},
     "output_type": "display_data"
    }
   ],
   "source": [
    "%%latex\n",
    "\\begin{equation}\n",
    "\\frac{\\Omega_eR_*}{V_0} = \\bigg( \\frac{9Gm_*t_0}{\\gamma_*Q_*^{\\prime}R_*^2V_0} \\bigg)^{1/3} \\bigg( \\frac{m_p}{m_*} \\bigg)^{2/3} \\bigg( \\frac{R_*}{a} \\bigg)^2\n",
    "\\end{equation}"
   ]
  },
  {
   "cell_type": "markdown",
   "metadata": {
    "slideshow": {
     "slide_type": "fragment"
    }
   },
   "source": [
    "Or in line mode: \n",
    "$$e^x=\\sum_{i=0}^\\infty \\frac{1}{i!}x^i$$"
   ]
  },
  {
   "cell_type": "code",
   "execution_count": 36,
   "metadata": {
    "collapsed": false,
    "hideCode": false,
    "slideshow": {
     "slide_type": "subslide"
    }
   },
   "outputs": [
    {
     "data": {
      "text/html": [
       "<iframe width=\"100%\" height=\"500\" src=\"https://app.dominodatalab.com/r00sj3/jupyter/raw/latest/results/earthquake2.html?inline=true\"></iframe>"
      ],
      "text/plain": [
       "<IPython.core.display.HTML object>"
      ]
     },
     "metadata": {},
     "output_type": "display_data"
    }
   ],
   "source": [
    "%%HTML\n",
    "<iframe width=\"100%\" height=\"500\" src=\"https://app.dominodatalab.com/r00sj3/jupyter/raw/latest/results/earthquake2.html?inline=true\"></iframe>"
   ]
  },
  {
   "cell_type": "markdown",
   "metadata": {
    "slideshow": {
     "slide_type": "slide"
    }
   },
   "source": [
    "### REBOUND \n",
    "---\n",
    "\n",
    "An open-source multi-purpose N-body code\n",
    "\n",
    "---\n",
    "https://github.com/hannorein/rebound\n",
    "\n",
    "![Rebound CRTBP](./rebound/snapshot.png)"
   ]
  },
  {
   "cell_type": "code",
   "execution_count": 11,
   "metadata": {
    "code_folding": [
     5
    ],
    "collapsed": false,
    "scrolled": false,
    "slideshow": {
     "slide_type": "subslide"
    }
   },
   "outputs": [
    {
     "data": {
      "image/png": "[encoded data removed]",
      "text/plain": [
       "<matplotlib.figure.Figure at 0x10fea2ed0>"
      ]
     },
     "metadata": {},
     "output_type": "display_data"
    }
   ],
   "source": [
    "%matplotlib inline\n",
    "from IPython.display import display, clear_output \n",
    "import matplotlib.pyplot as plt\n",
    "import rebound as rb\n",
    "sim = rb.Simulation()\n",
    "def addbody():\n",
    "    sim.add(m=1)\n",
    "    sim.add(m=0.1, e=0.041, a=0.4, inc=0.2, f=0.43, Omega=0.82, omega=2.98)\n",
    "    sim.add(m=1e-3, e=0.24, a=1.0, pomega=2.14)\n",
    "    sim.add(m=1e-3, e=0.24, a=1.5, omega=1.14, l=2.1)\n",
    "    sim.add(a=-2.7, e=1.4, f=-1.5,omega=-0.7) # hyperbolic orbit\n",
    "    sim.move_to_com()\n",
    "addbody()\n",
    "for i in range(20):\n",
    "    sim.integrate(sim.t+0.05)\n",
    "    #periastron=True,\n",
    "    figif = rb.OrbitPlot(sim,color=True,unitlabel=\"[AU]\",lim=2.)\n",
    "    display(figif)\n",
    "    plt.close(figif)\n",
    "    clear_output(wait=True)"
   ]
  },
  {
   "cell_type": "code",
   "execution_count": 1,
   "metadata": {
    "code_folding": [
     6,
     14
    ],
    "collapsed": false,
    "hideCode": false,
    "hideOutput": false,
    "hidePrompt": false,
    "slideshow": {
     "slide_type": "subslide"
    }
   },
   "outputs": [
    {
     "data": {
      "image/png": "[encoded data removed]",
      "text/plain": [
       "<matplotlib.figure.Figure at 0x10d7c56d0>"
      ]
     },
     "metadata": {},
     "output_type": "display_data"
    }
   ],
   "source": [
    "%matplotlib inline\n",
    "from IPython.display import display, clear_output \n",
    "from ipywidgets import interact, widgets\n",
    "import matplotlib.pyplot as plt\n",
    "import rebound as rb\n",
    "sim = rb.Simulation()\n",
    "def addbody():\n",
    "    sim.add(m=1)\n",
    "    sim.add(m=0.1, e=0.041, a=0.4, inc=0.2, f=0.43, Omega=0.82, omega=2.98)\n",
    "    sim.add(m=1e-3, e=0.24, a=1.0, pomega=2.14)\n",
    "    sim.add(m=1e-3, e=0.24, a=1.5, omega=1.14, l=2.1)\n",
    "    sim.add(a=-2.7, e=1.4, f=-1.5,omega=-0.7) # hyperbolic orbit\n",
    "    sim.move_to_com()\n",
    "addbody()\n",
    "def intdis(t):\n",
    "    sim.integrate(t)\n",
    "    fig = rb.OrbitPlot(sim,color=True,unitlabel=\"[AU]\",lim=2.)\n",
    "    display(fig)\n",
    "    clear_output(wait=True)    \n",
    "interact(intdis,t=(0,3.0,0.05))"
   ]
  },
  {
   "cell_type": "markdown",
   "metadata": {
    "slideshow": {
     "slide_type": "subslide"
    }
   },
   "source": [
    "__Rebound C version + OpenGL__\n",
    "\n",
    "<video controls src=\"./rebound/orbital_evo3d.mp4\" />"
   ]
  },
  {
   "cell_type": "markdown",
   "metadata": {
    "slideshow": {
     "slide_type": "slide"
    }
   },
   "source": [
    "### Job Matters!!!\n",
    "![AAS Job register](./AAS-job.png)"
   ]
  },
  {
   "cell_type": "code",
   "execution_count": 37,
   "metadata": {
    "collapsed": false,
    "scrolled": false,
    "slideshow": {
     "slide_type": "slide"
    }
   },
   "outputs": [
    {
     "data": {
      "text/html": [
       "<p>Visit internal slide <a href=\"#/1\">1</a></p>\n",
       "<p><a href=\"?theme=sky#/themes\">Sky</a> \n",
       "    <a href=\"?theme=beige#/themes\">Beige</a> \n",
       "    <a href=\"?#/themes\">Default</a> ...\n",
       "</p>"
      ],
      "text/plain": [
       "<IPython.core.display.HTML object>"
      ]
     },
     "metadata": {},
     "output_type": "display_data"
    }
   ],
   "source": [
    "%%HTML\n",
    "<p>Visit internal slide <a href=\"#/1\">1</a></p>\n",
    "<p><a href=\"?theme=sky#/themes\">Sky</a> \n",
    "    <a href=\"?theme=beige#/themes\">Beige</a> \n",
    "    <a href=\"?#/themes\">Default</a> ...\n",
    "</p>"
   ]
  },
  {
   "cell_type": "code",
   "execution_count": 11,
   "metadata": {
    "collapsed": false,
    "scrolled": true,
    "slideshow": {
     "slide_type": "fragment"
    }
   },
   "outputs": [
    {
     "data": {
      "text/html": [
       "<h2>Transition Styles</h2>\n",
       "<p>\n",
       "    You can select from different transitions, like: <br>\n",
       "    <a href=\"?transition=none#/transitions\">None</a> -\n",
       "    <a href=\"?transition=fade#/transitions\">Fade</a> -\n",
       "    <a href=\"?transition=convex#/transitions\">Convex</a> ...\n",
       "</p>"
      ],
      "text/plain": [
       "<IPython.core.display.HTML object>"
      ]
     },
     "metadata": {},
     "output_type": "display_data"
    }
   ],
   "source": [
    "%%HTML\n",
    "<h2>Transition Styles</h2>\n",
    "<p>\n",
    "    You can select from different transitions, like: <br>\n",
    "    <a href=\"?transition=none#/transitions\">None</a> -\n",
    "    <a href=\"?transition=fade#/transitions\">Fade</a> -\n",
    "    <a href=\"?transition=convex#/transitions\">Convex</a> ...\n",
    "</p>"
   ]
  },
  {
   "cell_type": "code",
   "execution_count": 39,
   "metadata": {
    "collapsed": false,
    "scrolled": true,
    "slideshow": {
     "slide_type": "subslide"
    }
   },
   "outputs": [
    {
     "data": {
      "text/plain": [
       "{u'leap_motion': {u'naturalSwipe': True,\n",
       "  u'pointerColor': '#d80000',\n",
       "  u'pointerOpacity': 0.5},\n",
       " u'scroll': True,\n",
       " u'start_slideshow_at': u'selected',\n",
       " u'theme': u'sky',\n",
       " u'transition': u'zoom'}"
      ]
     },
     "execution_count": 39,
     "metadata": {},
     "output_type": "execute_result"
    }
   ],
   "source": [
    "from traitlets.config.manager import BaseJSONConfigManager\n",
    "path = '/Users/Meldon/Tea Nexus 2/'\n",
    "cm = BaseJSONConfigManager(config_dir=path)\n",
    "cm.update('livereveal', {\n",
    "              'theme': 'sky',\n",
    "              'transition': 'zoom',\n",
    "              'start_slideshow_at': 'selected',\n",
    "})\n",
    "cm.update('livereveal', {\n",
    "              'scroll': True,\n",
    "})\n",
    "cm.update('livereveal', {\n",
    "    'leap_motion': {\n",
    "        'naturalSwipe'  : True,     # Invert swipe gestures\n",
    "        'pointerOpacity': 0.5,      # Set pointer opacity to 0.5\n",
    "        'pointerColor'  : '#d80000',# Red pointer\n",
    "    }\n",
    "})"
   ]
  },
  {
   "cell_type": "markdown",
   "metadata": {
    "slideshow": {
     "slide_type": "slide"
    }
   },
   "source": [
    "<video controls src=\"./NJU2UCSC.mp4\"/>"
   ]
  },
  {
   "cell_type": "code",
   "execution_count": null,
   "metadata": {
    "collapsed": false,
    "hideOutput": false,
    "hidePrompt": false,
    "slideshow": {
     "slide_type": "slide"
    }
   },
   "outputs": [],
   "source": []
  },
  {
   "cell_type": "raw",
   "metadata": {
    "slideshow": {
     "slide_type": "skip"
    }
   },
   "source": [
    "- .... .- -. -.-    -.-- --- ..-"
   ]
  },
  {
   "cell_type": "raw",
   "metadata": {
    "code_folding": [],
    "slideshow": {
     "slide_type": "skip"
    }
   },
   "source": [
    " ______ __                       __                                    \n",
    "/\\__  _\\\\ \\                     /\\ \\                                   \n",
    "\\/_/\\ \\/ \\ \\___      __      ___\\ \\ \\/'\\       __  __    ___   __  __  \n",
    "   \\ \\ \\\\ \\  _ `\\  /'__`\\  /' _ `\\ \\ , <      /\\ \\/\\ \\  / __`\\/\\ \\/\\ \\ \n",
    "    \\ \\ \\\\ \\ \\ \\ \\/\\ \\ \\.\\_/\\ \\/\\ \\ \\ \\\\`\\    \\ \\ \\_\\ \\/\\ \\ \\ \\ \\ \\_\\ \\\n",
    "     \\ \\_\\\\ \\_\\ \\_\\ \\__/.\\_\\ \\_\\ \\_\\ \\_\\ \\_\\   \\/`____ \\ \\____/\\ \\____/\n",
    "      \\/_/ \\/_/\\/_/\\/__/\\/_/\\/_/\\/_/\\/_/\\/_/    `/___/> \\/___/  \\/___/ \n",
    "                                                   /\\___/              \n",
    "                                                   \\/__/               \n",
    "                                                                    "
   ]
  }
 ],
 "metadata": {
  "celltoolbar": "Slideshow",
  "kernelspec": {
   "display_name": "Python 2",
   "language": "python",
   "name": "python2"
  },
  "language_info": {
   "codemirror_mode": {
    "name": "ipython",
    "version": 2
   },
   "file_extension": ".py",
   "mimetype": "text/x-python",
   "name": "python",
   "nbconvert_exporter": "python",
   "pygments_lexer": "ipython2",
   "version": "2.7.10"
  },
  "livereveal": {
   "leap_motion": {
    "naturalSwipe": false,
    "pointerColor": "#d80000",
    "pointerOpacity": 0.5
   },
   "start_slideshow_at": "selected",
   "theme": "beige",
   "transition": "convex"
  },
  "widgets": {
   "state": {
    "9c9ccefca9944702a4374610d7b50d54": {
     "views": [
      {
       "cell_index": 16
      }
     ]
    }
   },
   "version": "1.2.0"
  }
 },
 "nbformat": 4,
 "nbformat_minor": 0
}
